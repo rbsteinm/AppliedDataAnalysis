{
 "cells": [
  {
   "cell_type": "code",
   "execution_count": null,
   "metadata": {
    "collapsed": true
   },
   "outputs": [],
   "source": [
    "import numpy as np\n",
    "import seaborn as sns\n",
    "import pandas as pd\n",
    "import matplotlib.pyplot as plt\n",
    "import itertools\n",
    "import csv\n",
    "import copy\n",
    "import sklearn.linear_model\n",
    "import json\n",
    "import re\n",
    "from sklearn import preprocessing\n",
    "import networkx as nx\n",
    "import statsmodels\n",
    "from statsmodels.stats.proportion import proportions_ztest\n",
    "from networkx.algorithms import bipartite\n",
    "from networkx.algorithms import max_weight_matching\n",
    "%matplotlib inline\n",
    "%config InlineBackend.figure_format = 'retina'\n",
    "COLOR_TREAT = \"#2ecc71\"\n",
    "COLOR_NO_TREAT = \"#e74c3c\"\n",
    "import warnings\n",
    "warnings.filterwarnings('ignore')"
   ]
  },
  {
   "cell_type": "code",
   "execution_count": null,
   "metadata": {
    "collapsed": true
   },
   "outputs": [],
   "source": [
    "def percent_categorical(item, df=None, grouper='Active Status' , order = None , title = None , label = None , legend = None) :\n",
    "    # plot categorical responses to an item ('column name')\n",
    "    # by percent by group ('diff column name w categorical data')\n",
    "    # select a data frame (default is IA)\n",
    "    # 'Active Status' is default grouper\n",
    "\n",
    "    # create df of item grouped by status\n",
    "    grouped = (df.groupby(grouper)[item]\n",
    "    # convert to percentage by group rather than total count\n",
    "                .value_counts(normalize=True)\n",
    "                # rename column \n",
    "                .rename('percentage')\n",
    "                # multiple by 100 for easier interpretation\n",
    "                .mul(100)\n",
    "                # change order from value to name\n",
    "                .reset_index()\n",
    "                .sort_values(item))\n",
    "\n",
    "    # create plot\n",
    "    \n",
    "    f, axarr = plt.subplots(1, 2, figsize = (15,8))\n",
    "    \n",
    "    sns.barplot(x=item,\n",
    "                         y='percentage',\n",
    "                         hue=grouper,\n",
    "                         data=grouped,\n",
    "                         palette='RdBu' , order = order , ax = axarr[0]\n",
    "                         )\n",
    "    \n",
    "    \n",
    "    \n",
    "    sns.countplot( x = item , data= df , hue = grouper , palette='RdBu' , order = order , ax = axarr[1])\n",
    "    \n",
    "    \n",
    "    \n",
    "    \n",
    "    if title == None:\n",
    "        title = ['' , '']\n",
    "    \n",
    "    axarr[0].set_title(title[0] , size =15)\n",
    "    axarr[1].set_title(title[1] , size =15)\n",
    "    if label == None :\n",
    "        label = item\n",
    "    axarr[0].set_xlabel(label , size = 15)\n",
    "    axarr[1].set_xlabel(label , size =15)\n",
    "    \n",
    "    axarr[0].tick_params(axis='both', which='major', labelsize=15)\n",
    "    axarr[1].tick_params(axis='both', which='major', labelsize=15)\n",
    "    \n",
    "    axarr[0].set_xticklabels(order , rotation=45 )\n",
    "    axarr[1].set_xticklabels(order , rotation=45 )\n",
    "    \n",
    "    axarr[0].set_ylabel('Percent' , size = 15)\n",
    "    axarr[1].set_ylabel('Counts',  size =15 )\n",
    "    \n",
    "    if legend != None:\n",
    "        \n",
    "        for ax in axarr :\n",
    "            leg_handles = ax.get_legend_handles_labels()[0]\n",
    "            ax.legend(leg_handles, [legend[1], legend[2]], title=legend[0])\n",
    "            plt.setp(ax.get_legend().get_texts(), fontsize='15') # for legend text\n",
    "            plt.setp(ax.get_legend().get_title(), fontsize='15')\n",
    "    \n",
    "    return axarr"
   ]
  },
  {
   "cell_type": "code",
   "execution_count": null,
   "metadata": {},
   "outputs": [],
   "source": [
    "flatui = [\"#55ff00\",\"#73a659\", \"#a6595b\", \"#ff0004\"]\n",
    "sns.palplot(sns.color_palette(flatui))\n",
    "plt.savefig('legend.png', transparent=True)"
   ]
  },
  {
   "cell_type": "markdown",
   "metadata": {},
   "source": [
    "# Do the United Nations peace agreements have an impact on conflicts resolution around the world ?\n",
    "\n",
    "# 1. Introduction\n",
    "\n",
    "The United Nations often gets criticised for all the wars it could not prevent and its impact in our society has often been questioned. The UN exist since 1945, although until today the amount of conflicts around the world has not significantly diminished, does this mean that the UN is inefficient ? The Israelo-Palestinian conflict is allmost as old as the UN and no Peace Agreements could completely stop it as of today, so does the efforts made through the UN organization are worth the results ? Such a question would request more than a statistical study to be answered. Hence, we will focus on studying the impact of the UN in the domain of conflict resolution. \n",
    " \n",
    " Our study aims at giving an objective analysis of the impact of UN peace agreements on the evolution of conflicts around the world. We present the results of our analysis as a data story. Information relative to both conflicts and peace treaties are displayed on a world map in order to get an insight on the impact they have on one another.\n",
    "\n",
    "To perform this, we used the UCDP dataset which provides information about the conflicts and peace agreements from 1975 to 2011."
   ]
  },
  {
   "cell_type": "markdown",
   "metadata": {},
   "source": [
    "# 2. Facts about conflicts and Peace Agreements"
   ]
  },
  {
   "cell_type": "markdown",
   "metadata": {},
   "source": [
    "## 2.1 Conflicts"
   ]
  },
  {
   "cell_type": "code",
   "execution_count": null,
   "metadata": {
    "collapsed": true
   },
   "outputs": [],
   "source": [
    "#For nb of deaths\n",
    "precisedf = pd.read_csv('data/ged171.csv')\n",
    "\n",
    "#Import the Peace Agreement dataset and the translation table to get the new IDs\n",
    "pa = pd.read_excel('data/ucdp-peace-agreements.xls')\n",
    "searchfor = ['UN', 'United Nations' , 'united nations' , 'ONU']\n",
    "pa_UN = pa[pa['pa_3rd'].astype(str).str.contains('|'.join(searchfor))]\n",
    "inter = list(set(pa_UN.PAID).intersection(pa.PAID))\n",
    "pa[\"UN\"] = [1 if ele in inter else 0 for ele in pa.PAID]\n",
    "pa[pa['UN'] == 1]\n",
    "\n",
    "reader = csv.reader(open('data/translate_conf.csv', 'r'))\n",
    "\n",
    "#Create a dictionnary that will have {New ID : Old ID} so we can make the link\n",
    "d = {}\n",
    "for row in reader:\n",
    "    k, v = row\n",
    "    d[v] = k\n",
    "    \n",
    "#pa.CID = pa.CID.astype(dtype=str).replace(to_replace=d )\n",
    "pa.CID = pa.CID.astype(str)\n",
    "#print(type(pa.CID))\n",
    "pa.CID = pa.CID.apply(lambda x: d[x])\n",
    "pa.CID = pa.CID.astype(dtype = int)\n",
    "\n",
    "#Import the conflict dataset\n",
    "df = pd.read_csv('data/ucdp-prio-acd-171.csv')\n",
    "df.drop(['sidea2nd', 'sideb2nd' , 'terr' , 'year' , 'intensity' , 'startprec' , 'startdate2' , 'epend' , 'ependprec', 'gwnoa', 'gwnoa2nd', 'gwnob', 'gwnob2nd', 'gwnoloc', 'startprec2', 'version', 'sidebid'], axis=1, inplace = True)\n",
    "clean_df = df.groupby('conflictid').last()\n",
    "agreements = pa.groupby('CID').last()\n",
    "UN_agreements = pa[pa['UN']==1].groupby('CID').last()\n",
    "Other_agreements = pa[pa['UN']==0].groupby('CID').last()\n",
    "clean_df[\"agreement\"] = [1 if ele in agreements.index else 0 for ele in clean_df.index]\n",
    "clean_df[\"UN_agreement\"] = [1 if ele in UN_agreements.index else 0 for ele in clean_df.index]\n",
    "clean_df[\"Other_agreement\"] = [1 if ele in Other_agreements.index else 0 for ele in clean_df.index]\n",
    "clean_df.rename({'ependdate':'enddate'} , inplace = True, axis = 1)\n",
    "clean_df['startdate'] = pd.to_datetime(clean_df['startdate'])\n",
    "clean_df['enddate'] = pd.to_datetime(clean_df['enddate'])\n",
    "clean_df['duration'] = (clean_df['enddate'] - clean_df['startdate']).dt.days\n",
    "regiondic = {'1':'Europe' , '2': 'Middle East', '3': 'Asia' , '4': 'Africa' , '5':'Americas' , '1, 3' : 'Asia',\n",
    "            '1, 2' : 'Middle East' , '1, 4':'Africa' ,'1, 5': 'Americas','1, 2, 3, 5' :'Middle East' , '1, 3, 5' : 'Middle East'}\n",
    "typedic = {1 : 'Extrasystemic' , 2 : 'Interstate' , 3 : 'Internal' , 4: 'Internationalized'}\n",
    "incompdic = {1 : 'Territory' , 2: 'Government' , 3: 'Government and Territory'}\n",
    "cumintdic = {0: 'Less than 1000 deaths' , 1: 'More than 1000 deaths'}\n",
    "clean_df.region.replace(regiondic , inplace= True)\n",
    "clean_df.type.replace(typedic , inplace= True)\n",
    "clean_df.incomp.replace(incompdic , inplace = True)\n",
    "clean_df.cumint.replace(cumintdic , inplace = True)\n",
    "ag = clean_df[clean_df['agreement'] == 1]\n",
    "clean_df[clean_df['agreement'] == 1].head()"
   ]
  },
  {
   "cell_type": "code",
   "execution_count": null,
   "metadata": {
    "collapsed": true
   },
   "outputs": [],
   "source": [
    "clean_df['Year'] = pd.DatetimeIndex(clean_df['startdate']).year"
   ]
  },
  {
   "cell_type": "code",
   "execution_count": null,
   "metadata": {
    "collapsed": true
   },
   "outputs": [],
   "source": [
    "plt.figure(figsize=(20,5))\n",
    "sns.countplot(x='Year', data=clean_df, hue='agreement' , palette = 'RdBu')\n",
    "plt.title('Distribution of the conflicts by starting year' , size =15)\n",
    "plt.xlabel('Year' ,size = 15)\n",
    "plt.ylabel('Count' , size =15)\n",
    "plt.xticks(rotation=70 , size = 12)\n",
    "plt.yticks(size = 12)\n",
    "plt.legend( ['Without' , 'With'] ,fontsize = 'large' , title = 'Agreement' , )\n",
    "plt.savefig('images/conflict_year.png', transparent=True)"
   ]
  },
  {
   "cell_type": "markdown",
   "metadata": {},
   "source": [
    "# `Region` distribution\n",
    "\n",
    "## With respect to the PA\n",
    "\n",
    "In this first part, we will study the different conflicts that ta\n",
    "\n",
    "\n",
    "\n",
    "\n",
    "We observe that the regions are not equally distributed, a large proportion of conflicts that take part in Europe or in Africa benefits from a or several peace agreements whereas there is almost no peace agreements in the Middle East or in Asia. \n",
    "\n",
    "The two distributions are indeed very different.\n",
    "\n",
    "If we look at the percentage of conflicts that received a PA for each regions, we notice that 1/3$^{rd}$ of the conflicts received a peace agreements in Africa, 1/4$^{th}$ in Europe, but only 7% in the Middle East."
   ]
  },
  {
   "cell_type": "code",
   "execution_count": null,
   "metadata": {
    "collapsed": true,
    "scrolled": false
   },
   "outputs": [],
   "source": [
    "regper = (clean_df[clean_df['agreement'] == 1].groupby('region').count() /(clean_df[clean_df['agreement'] == 0].groupby('region').count() + clean_df[clean_df['agreement'] == 1].groupby('region').count()))['location']\n",
    "plt.figure(figsize=(15,5))\n",
    "sns.barplot( x = regper.index , y = (regper.values*100) , color = '#B0CDDD' )\n",
    "plt.xlabel('Regions' , size = 15)\n",
    "plt.ylabel('Percent' , size = 15)\n",
    "plt.xticks(rotation=45 , size = 12)\n",
    "plt.title('Repartition of the conflicts across the regions' , size = 15)\n",
    "plt.savefig('images/regionrep.png', transparent=True)"
   ]
  },
  {
   "cell_type": "code",
   "execution_count": null,
   "metadata": {
    "collapsed": true,
    "scrolled": false
   },
   "outputs": [],
   "source": [
    "percent_categorical('region' , df= clean_df , grouper = 'agreement' , \n",
    "                    order = ['Africa' , 'Asia' , 'Americas' , 'Europe' , 'Middle East'],\n",
    "                   title = ['Distribution of conflicts across the regions' , 'Number of conflicts per region'] ,\n",
    "                    label = 'Region', legend = ['Agreement' , 'without' , 'with'])\n",
    "plt.savefig('images/RegionAG.png', transparent=True , bbox_inches = 'tight')"
   ]
  },
  {
   "cell_type": "markdown",
   "metadata": {},
   "source": [
    "## With repsect to the UN\n",
    "\n",
    "Here we filter the conflicts in order to only vizualize those who benefited from a peace agreements. We want to study if the distribution for the CID that benefited from a PA where the UN were involved is the same as the distribution for the CID that benefited from a PA where the UN were not involved.\n",
    "Here the distributions are looking alike. The only outliers we would have are for the Middle East and Americas regions. Indeed, in our database the UN never took part in a peace agreement for the Middle East region."
   ]
  },
  {
   "cell_type": "code",
   "execution_count": null,
   "metadata": {
    "collapsed": true
   },
   "outputs": [],
   "source": [
    "percent_categorical('region' , df= ag , grouper = 'UN_agreement' , \n",
    "                    order = ['Africa' , 'Asia' , 'Americas' , 'Europe' , 'Middle East'],\n",
    "                    title = ['Distribution of the solved conflicts across the regions' , 'Number of solved conflicts per region'] \n",
    "                     , label = 'Region' , legend = ['UN intervention' , 'without' , 'with']);\n",
    "plt.savefig('images/RegionCUN.png', transparent=True , bbox_inches = 'tight')"
   ]
  },
  {
   "cell_type": "markdown",
   "metadata": {},
   "source": [
    "# `Type` distribution\n",
    "\n",
    "## With respect to the PAs\n",
    "\n",
    "The large majority of the conflicts are internal conflicts, followed by internationalized and interstatical conflicts.\n",
    "Extrasystemic conflicts (represents colonial conflicts) did not receive any peace agreements.\n",
    "Otherwise, the distribution is almost the same for agreements or not. "
   ]
  },
  {
   "cell_type": "code",
   "execution_count": null,
   "metadata": {
    "collapsed": true
   },
   "outputs": [],
   "source": [
    "percent_categorical('type' , df= clean_df , grouper = 'agreement' , \n",
    "                    order = ['Extrasystemic' , 'Interstate' , 'Internal' , 'Internationalized'],\n",
    "                   title = ['Distribution of conflicts type' , 'Number of conflicts per different type'],\n",
    "                   label = 'Type of conflict' , \n",
    "                   legend = ['Agreement' , 'without' , 'with']);\n",
    "plt.savefig('images/typeAG.png', transparent=True , bbox_inches = 'tight')"
   ]
  },
  {
   "cell_type": "markdown",
   "metadata": {},
   "source": [
    "## With respect to the UN \n",
    "\n",
    "Here we can see a bit of a difference between the distributions. Indeed, when we look at the conflict solved by the UN, Internationalized conflicts represents 20% of it whereas it's less than 10% for the conflicts that received a Peace Agreement but not from the UN.\n",
    "\n",
    "The UN seem to be more focused on Internationalized conflicts than Interstate conflicts compared to the control distribution."
   ]
  },
  {
   "cell_type": "code",
   "execution_count": null,
   "metadata": {
    "collapsed": true
   },
   "outputs": [],
   "source": [
    "percent_categorical('type' , df= ag , grouper = 'UN_agreement' , \n",
    "                    order = ['Interstate' , 'Internal' , 'Internationalized'],\n",
    "                   title = ['Distribution of the solved conflicts by conflict type' , 'Number of conflicts that benefited from a PA per conflict type'],\n",
    "                   label = 'Type of conflict' , \n",
    "                   legend = ['UN intervention' , 'without' , 'with']);\n",
    "plt.savefig('images/typeCUN.png', transparent=True , bbox_inches = 'tight')"
   ]
  },
  {
   "cell_type": "markdown",
   "metadata": {},
   "source": [
    "# `Incomp` distribution\n",
    "\n",
    "## With respect to the agreements\n",
    "\n",
    "There is very few conflicts that began because of a *Government and Territory* incompatibility. The distribution of the CID that did not receive a peace agreement is strongly around Territorial incompatibility whereas the one for the CID that benifited from an agreement is even between Terrytory and Government incomp."
   ]
  },
  {
   "cell_type": "code",
   "execution_count": null,
   "metadata": {
    "collapsed": true
   },
   "outputs": [],
   "source": [
    "percent_categorical('incomp' , df= clean_df , grouper = 'agreement' , \n",
    "                    order = [ 'Territory' , 'Government' , 'Government and Territory'],\n",
    "                   title = ['Distribution of the incompatibilities' , 'Number of conflicts per different incompatibilities'],\n",
    "                   label = 'Incompatibility that led to the conflict' ,\n",
    "                   legend = ['Agreement' , 'without' , 'with'])\n",
    "plt.savefig('images/incompAG.png', transparent=True , bbox_inches = 'tight')"
   ]
  },
  {
   "cell_type": "markdown",
   "metadata": {},
   "source": [
    "## With respect to the UN\n",
    "\n",
    "Here the distributions are very different. Indeed, the distribution for the UN is centered around Government incomp (more than 70% of the conflicts solved by the UN) whereas the conflicts that were not solved by the UN are more centered around conflicts that began because of a Territorial incompatibility."
   ]
  },
  {
   "cell_type": "code",
   "execution_count": null,
   "metadata": {
    "collapsed": true
   },
   "outputs": [],
   "source": [
    "percent_categorical('incomp' , df= ag , grouper = 'UN_agreement' , \n",
    "                    order = [ 'Territory' , 'Government' , 'Government and Territory'],\n",
    "                    title = ['Distribution of the incompatibilities for the solved CIDs' , 'Number of solved conflicts per different incompatibilities'],\n",
    "                   label = 'Incompatibility that led to the conflict' , \n",
    "                   legend = ['UN intervention' , 'without' , 'with'])\n",
    "plt.savefig('images/incompCUN.png', transparent=True , bbox_inches = 'tight')"
   ]
  },
  {
   "cell_type": "markdown",
   "metadata": {},
   "source": [
    "# Number of deaths\n",
    "\n",
    "## With respect to PA\n",
    "\n",
    "We observe on these distributions that peace agreements focus more on deadly conflicts (more than 1000 deaths during the totality of the conflict) than the less deadly ones. The distribution for the conflict that did not receive a peace agreement is even between the two classes, deadly or less deadly."
   ]
  },
  {
   "cell_type": "code",
   "execution_count": null,
   "metadata": {
    "collapsed": true,
    "scrolled": false
   },
   "outputs": [],
   "source": [
    "percent_categorical('cumint' , df= clean_df , grouper = 'agreement' , \n",
    "                    order = ['Less than 1000 deaths' , 'More than 1000 deaths'] ,\n",
    "                   title = ['Distribution for the number of deaths' , 'Number of conflicts per classes'],\n",
    "                   label = 'Number of deaths' ,\n",
    "                   legend = ['Agreement' , 'without' , 'with'])\n",
    "plt.savefig('images/cumintAG.png', transparent=True, bbox_inches = 'tight')"
   ]
  },
  {
   "cell_type": "markdown",
   "metadata": {},
   "source": [
    "## With respect to the UN\n",
    "\n",
    "Here we observe that the UN is way more focused on the deadly conflicts (80% of the conflicts solved by the UN have more than 1000 deaths). For the other solver, they solve both types of conflicts equally. It begins to seem that the UN is taking care of the more difficult conflicts."
   ]
  },
  {
   "cell_type": "code",
   "execution_count": null,
   "metadata": {
    "collapsed": true
   },
   "outputs": [],
   "source": [
    "percent_categorical('cumint' , df= ag , grouper = 'UN_agreement' , \n",
    "                    order = ['Less than 1000 deaths' , 'More than 1000 deaths'],\n",
    "                   title = ['Distribution for the number of deaths for the CIDs with a PA' , 'Number of conflicts per classes for the CIDs with a PA'],\n",
    "                   label = 'Number of deaths' , \n",
    "                   legend = ['UN intervention' , 'without' , 'with'])\n",
    "plt.savefig('images/cumintCUN.png', transparent=True , bbox_inches = 'tight')"
   ]
  },
  {
   "cell_type": "markdown",
   "metadata": {},
   "source": [
    "## 2.2 Peace Agreements\n",
    "The Peace Agreements contain a lot of information about the type of conflict they aim to solve, their own power of violence dissipation and the technicalities that should be set up to bring a more civilized life to the people concerned by the conflict. There are three main types of peace agreements :\n",
    "\n",
    "-------------- faire un tableau ------------\n",
    "- Full peace agreement\n",
    "- Partial peace agreement\n",
    "- Peace process agreement\n",
    "\n",
    "--------------faire un tableau---------------\n",
    "\n",
    "Obviously, this goes from the most executive agreement to the least executive agreement, athough it does not translate the power of a Peace Agreement. Each Peac Agreement is defined by a few charateristics for each type of political provision (a provision is a clause in legal instrument). Below we give a definition for each type of provision.\n",
    "\n",
    "-------------- faire un tableau ------------\n",
    "- Behavioral conduct of the warring parties\n",
    "- Regulation of governmental incompatibility\n",
    "- Regulation of territorial incompatibility\n",
    "- Justice issues\n",
    "\n",
    "-------------- faire un tableau ------------\n",
    "\n",
    "8 peace agreements with UN. out of the 8 PAs only 1 is still valid as of today\n",
    "PA with UN represents X% of the PA's. Hence a matching analysis must be made to "
   ]
  },
  {
   "cell_type": "code",
   "execution_count": null,
   "metadata": {
    "collapsed": true
   },
   "outputs": [],
   "source": [
    "pa = pd.read_excel('data/ucdp-peace-agreements.xls')\n",
    "cols = ['bwdID', 'pa_comment', 'c_sign', 'c_3rd', 'c_duration', 'Reaffirm ID', 'Comment', 'txt', \n",
    "        'Link to fulltext agreement', 'ProcID', 'Frame', 'All', 'Counter' , 'Duration']\n",
    "pa.drop(columns=cols, inplace=True)\n",
    "regiondic = {\n",
    "    1:'Europe',\n",
    "    2:'Middle East',\n",
    "    3:'Asia',\n",
    "    4:'Africa',\n",
    "    5:'Americas'\n",
    "}\n",
    "paType = {1:'Full Peace',2:'Partial Peace',3:'Peace Process'}\n",
    "incompatibility = {1:'Territorial', 2:'Governmental',3:'Territorial & Governmental'}\n",
    "endedList = {0:'Still Valid', 1:'Terminated'}\n",
    "pa['ended'].replace(endedList, inplace=True)\n",
    "pa['pa_type'].replace(paType, inplace=True)\n",
    "pa['Region'].replace(regiondic, inplace=True)\n",
    "pa['Inc'].replace(incompatibility, inplace=True)\n",
    "\n",
    "searchfor = ['UN', 'United Nations' , 'united nations' , 'ONU']\n",
    "pa_UN = pa[pa['pa_3rd'].astype(str).str.contains('|'.join(searchfor))]\n",
    "inter = list(set(pa_UN.PAID).intersection(pa.PAID))\n",
    "pa[\"UN\"] = ['UN intervention' if ele in inter else 'No UN intervention' for ele in pa.PAID]"
   ]
  },
  {
   "cell_type": "code",
   "execution_count": null,
   "metadata": {},
   "outputs": [],
   "source": [
    "plt.figure(figsize=(15,5))\n",
    "sns.countplot(x='Year', data=pa, hue='UN', palette='RdBu')\n",
    "plt.title('Distribution of the Peace Agreements by year')\n",
    "plt.savefig('images/PA_year.png', transparent=True)"
   ]
  },
  {
   "cell_type": "markdown",
   "metadata": {},
   "source": [
    "### Year distibution of Peace agreements\n",
    "1991 is the year where most peace agreements were signed. There has been two periods with a low amount of peace agreement, from 1983 to 1987 and from 2009 to 2011. Until 1990, The UN were not taking part to Peace agreements except for the Peace Process agreement between Namibia and South Africa in 1978."
   ]
  },
  {
   "cell_type": "code",
   "execution_count": null,
   "metadata": {},
   "outputs": [],
   "source": [
    "plt.figure(figsize=(15,5));\n",
    "sns.countplot(x='pa_type', data=pa, palette=sns.cubehelix_palette(800, start=2, rot=0.3, dark=0.5, light=.95, reverse=True),\n",
    "             order= pa.pa_type.value_counts().index)#col='UN', kind='count', size=6);"
   ]
  },
  {
   "cell_type": "code",
   "execution_count": null,
   "metadata": {},
   "outputs": [],
   "source": [
    "percent_categorical('pa_type' , df=pa , grouper = 'UN' , order = pa.pa_type.value_counts().index,\n",
    "                   title = ['Distribution of the PAs by type' , 'Number of PAs of each type'],\n",
    "                   label = 'Type of agreement' , \n",
    "                   legend = ['UN intervention' , 'without' , 'with']);\n",
    "plt.savefig('images/PA_typeInc.png', transparent=True)"
   ]
  },
  {
   "cell_type": "markdown",
   "metadata": {},
   "source": [
    "### Executive strength of peace agreements\n",
    "Most peace agreements are partial peace agreements. Peace Process agreements are generally agreements that are signed at the begginning of a conflict and call for future peace agreements. This figure that UN involvment in the peace agreements does not change much the distribution of the the PAs types. "
   ]
  },
  {
   "cell_type": "code",
   "execution_count": null,
   "metadata": {},
   "outputs": [],
   "source": [
    "plt.figure(figsize=(20,10))\n",
    "ax = sns.countplot(x='CID', data=pa, hue='ended', order=pa.CID.value_counts().index, palette='RdBu')\n",
    "ax.legend(loc='upper right', prop={'size': 18})\n",
    "plt.xlabel('Conflict ID', fontsize=18)\n",
    "plt.ylabel('Number of PAs', fontsize=18)\n",
    "plt.title('Number of peace agreements per conflict', Fontsize=20)\n",
    "plt.savefig('images/PA_CID.png', transparent=True)"
   ]
  },
  {
   "cell_type": "markdown",
   "metadata": {},
   "source": [
    "This figure shows that some conflicts used more than one Peace Agreement. \n",
    "\n",
    "Conflict 36 is an example of a conflict where multiple agreements were needed to achieve peace. This conflict concerns the Government of Guatemala and the Guatemalan National Revolutionary Unity. 16 peace agreements were signed in six years and all of them are still valid as of today. \n",
    "\n",
    "On the other hand, conflict 128 is an example of a conflict where all of its agreements ended. This conflict was between Iran and Iraq. Each of the 12 agreements were signed in 1975. Despite the first agreements, that was signed by The Shah of Iran and Saddam Hussein, all of them were signed by the same two representatives of Iran and Iraq, respectively by ABBAS-ALI KHALATBARY, Minister for Foreign Affairs of Iran and SAADOUN HAMADI, Minister for Foreign Affairs of Iraq. These agreements that were active in 1975, were than terminated between 1975 and 1980 until they were reactivated. Although the agreements were reactivated in 1980. Conflicts between Iran and Iraq did not stop in 1980, hence we can consider those agreements as failures.\n",
    "\n",
    "**Conflict 179 :**\n",
    "\n",
    "This conflict concerned the Government of the Republic of Rwanda and the Rwandese Patriotic Front. The six agreements were signed between 1992 and 1993. The incompatibility is governmental.\n",
    "The five first agreements were signed to provide partial peace and the last one in august 1993 was supposed to prvide full peace to the region. None of the agreements provided for the holding of national talks to solve incompatibility and for the integration of rebels into civil service.\n",
    "In April 1994, a genocide broke out and the peace agreements were never fully implemented.\n",
    "\n",
    "**Conflict 101 : **\n",
    "\n",
    "This conflict originated from a governmental incompatibility between South Africa and Namibia. The agreement was signed in 1978 and lasted two months. The agreement contained provisions for political incompatibilities leading to independence for Namibia, justice provisions with the return of refugees and release of political prisoners and behavior regulations such as (ceasefire, withdrawal of foreign forces and demobilisation of local armies).\n",
    " \n",
    "**Conflict 216 : **\n",
    "\n",
    "Government of Guinea Bissau - Military Junta for the Consolidation of Democracy, Peace and Justice. Incompatibility 2, The peace agreement lasted for 6 months.\n",
    "\n",
    "** Conflict 205 : **\n",
    "\n",
    "The agreement covered indigenous rights and culture and strengthened the position of the indigenous people in Mexico. incompatibility 2. The accord was never implemented and thus further peace talks that were planned in September the same year were suspended by EZLN. No exact date for the ending of the peace accord has been found.\n",
    "\n",
    "All of the conflicts that were treated by only one agreement and had terminated originated from governmental imcompabilities. "
   ]
  },
  {
   "cell_type": "markdown",
   "metadata": {},
   "source": [
    "### Regulation of warring parties behavior\n",
    "Most Peace Agreements that contain behavioral clauses provide for a ceasefire and the disarmement of foreign forces. s were never terminated. The ones which provided for the creation of a new national army or the integration of rebels into the army and the withdrawal of foreign forces.\n",
    "\n",
    "### Regulation of governmental incompatibilities\n",
    "72% of the Peace agreements concern governmental incompabiliities.\n",
    "Peace agreements that provide governmental provisions mostly provide for elections and electoral reforms for rebel integration into the interim government. The main difference that can be observed between UN agreements and non UN agreements is that the UN agreements usually provide provisions for an interim government and elections while non UN agreements msotly only provide provisions for an election.\n",
    "\n",
    "### Regulation of territorial incompatibilities\n",
    "Territorial conflicts are mostly treated by Peace Agreements with clauses about the demarcation of a border or the government granting the disputed region to the other warring party."
   ]
  },
  {
   "cell_type": "code",
   "execution_count": null,
   "metadata": {},
   "outputs": [],
   "source": [
    "def create_category(x):\n",
    "    if x.Inc == 'Governmental' and x.ended == 'Still Valid':\n",
    "        val = 'Gov_x'\n",
    "    elif x.Inc == 'Governmental' and x.ended == 'Terminated':\n",
    "        val = 'Gov_v'\n",
    "    elif x.Inc == 'Territorial' and x.ended == 'Still Valid':\n",
    "        val = 'Terr_x'\n",
    "    elif x.Inc == 'Territorial' and x.ended == 'Terminated':\n",
    "        val = 'Terr_v'  \n",
    "    elif x.Inc == 'Territorial & Governmental' and x.ended == 'Still Valid':\n",
    "        val = 'Gov/Terr_x'\n",
    "    else:\n",
    "        val = 'Gov/Terr_v' \n",
    "    return val\n",
    "pa['Inc_eval'] = pa.apply(create_category,axis=1)\n",
    "percent_categorical('Inc_eval', df=pa, grouper='UN', order=pa.Inc_eval.unique(),\n",
    "                    title = ['Distribution of PAs by their conflict type and their success/failure' , 'Number of PAs by their conflict type and their success/failure'],\n",
    "                    label = 'Type of conflict and successful (v) / failing (x) agreement' , \n",
    "                    legend = ['UN intervention' , 'without' , 'with']);\n",
    "plt.savefig('images/PA_Inc.png', transparent=True)"
   ]
  },
  {
   "cell_type": "code",
   "execution_count": null,
   "metadata": {
    "collapsed": true
   },
   "outputs": [],
   "source": [
    "pa.Inc_eval.value_counts()"
   ]
  },
  {
   "cell_type": "markdown",
   "metadata": {},
   "source": [
    "----------- faire tableau -----------\n",
    "- type of incompatibility \\ success rate\n",
    "- Governmental \\ 0.65\n",
    "- Territorial  \\ 0.78\n",
    "- Gov & Terr   \\ 0.07\n",
    "\n",
    "------------ faire tableau ----------\n",
    "\n",
    "The figure above shows that UN is more involved in governmental conflicts than territorial ones and has a higher percentage of success than ones where it is not involved. The UN never took part to Peace Agreements supposing to settle governmental and territorial conflicts. The governmental and territorial conflicts are the ones with the lowest success rate."
   ]
  },
  {
   "cell_type": "code",
   "execution_count": null,
   "metadata": {
    "collapsed": true
   },
   "outputs": [],
   "source": [
    "pa.Justice_prov.value_counts()\n",
    "130/216\n",
    "justice = {0:'No provision', 1:'Provision'}\n",
    "pa['Justice_prov'].replace(justice, inplace=True)"
   ]
  },
  {
   "cell_type": "code",
   "execution_count": null,
   "metadata": {
    "scrolled": true
   },
   "outputs": [],
   "source": [
    "percent_categorical('Justice_prov', df=pa, grouper='UN', order=pa.Justice_prov.unique(),\n",
    "                    title = ['Distribution of PAs that include a justice clause or not' , 'Number of PAs that include a justice clause or not'],\n",
    "                    label = 'Justice provision in the Peace Agreement.' , \n",
    "                    legend = ['UN intervention' , 'without' , 'with']);\n",
    "plt.savefig('images/PA_Justice.png', transparent=True)"
   ]
  },
  {
   "cell_type": "markdown",
   "metadata": {},
   "source": [
    "### Regulation of justice issues\n",
    "60% of the Peace agreemenets contain a clause concerning justice. The most recurring clause is the release of prisoners. \n",
    "# 3. Impact of the UN\n",
    "\n",
    "The UN is present in 31% of the agreements and took part to at least one PA for 27 conflicts.\n",
    "\n",
    "In this part, we will explore if the Peace Agreements where the United Nations acted as a third party performed better than the peace agreements where the UN did not act.\n",
    "\n",
    "In order to do so, we will check the proportion of peace agreements that are ended in both cases."
   ]
  },
  {
   "cell_type": "code",
   "execution_count": null,
   "metadata": {},
   "outputs": [],
   "source": [
    "pa.groupby('UN').count()\n",
    "pa.groupby(['UN' , 'ended']).count()"
   ]
  },
  {
   "cell_type": "code",
   "execution_count": null,
   "metadata": {},
   "outputs": [],
   "source": [
    "pa[pa[\"UN\"] ==1].groupby('CID').count()\n",
    "pa.groupby('CID').count()"
   ]
  },
  {
   "cell_type": "markdown",
   "metadata": {},
   "source": [
    "## A naive analysis\n",
    "\n",
    "First, let's just compute the proportions straight from our Peace Agreements database.  \n",
    "\n",
    "We observe that 34% of the agreements that included the UN ended, this proportion goes up to 36% for the agreements that did not include the UN. A chi square two-sample proportion test gives us a p-value of 0.82 so we don't reject the null hypothesis that these proportions are equal. This totally naive analysis can't give us a conclusion to our problematic, we can not say anything about the UN performances at this point."
   ]
  },
  {
   "cell_type": "code",
   "execution_count": null,
   "metadata": {
    "collapsed": true
   },
   "outputs": [],
   "source": [
    "pa = pd.read_excel('data/ucdp-peace-agreements.xls')\n",
    "searchfor = ['UN', 'United Nations' , 'united nations' , 'ONU']\n",
    "pa_UN = pa[pa['pa_3rd'].astype(str).str.contains('|'.join(searchfor))]\n",
    "inter = list(set(pa_UN.PAID).intersection(pa.PAID))\n",
    "pa[\"UN\"] = [1 if ele in inter else 0 for ele in pa.PAID]\n",
    "pa[pa['UN'] == 1]\n",
    "\n",
    "reader = csv.reader(open('data/translate_conf.csv', 'r'))\n",
    "\n",
    "#Create a dictionnary that will have {New ID : Old ID} so we can make the link\n",
    "d = {}\n",
    "for row in reader:\n",
    "    k, v = row\n",
    "    d[v] = k\n",
    "    \n",
    "#pa.CID = pa.CID.astype(dtype=str).replace(to_replace=d )\n",
    "pa.CID = pa.CID.astype(str)\n",
    "#print(type(pa.CID))\n",
    "pa.CID = pa.CID.apply(lambda x: d[x])\n",
    "pa.CID = pa.CID.astype(dtype = int)\n",
    "\n",
    "endeddic = {0: 'Active' , 1: 'Broken'}\n",
    "pa.ended.replace(endeddic , inplace= True)\n",
    "\n",
    "\n",
    "pa.groupby(['UN' , 'ended']).count()"
   ]
  },
  {
   "cell_type": "code",
   "execution_count": null,
   "metadata": {
    "collapsed": true
   },
   "outputs": [],
   "source": [
    "from scipy import stats\n",
    "matrix = np.array([[94,45], [54, 23]])\n",
    "stats.chi2_contingency(matrix)"
   ]
  },
  {
   "cell_type": "code",
   "execution_count": null,
   "metadata": {
    "collapsed": true
   },
   "outputs": [],
   "source": [
    "#without matching\n",
    "percent_categorical('ended', df=pa, grouper='UN' , \n",
    "                   order = ['Active' , 'Broken'] , title = ['Disitribution of the state of the PAs' , 'Number of PAs per classes'],\n",
    "                   label = 'State of the PA',\n",
    "                   legend = ['UN intervention' , 'without' , 'with'])\n",
    "\n",
    "plt.savefig('images/naive.png', transparent=True , bbox_inches = 'tight')"
   ]
  },
  {
   "cell_type": "markdown",
   "metadata": {},
   "source": [
    "## After performing a propensity score matching on the Peace Agreements\n",
    "\n",
    "Our previous analysis was quite naive as we saw on the earlier part about the PAs that they are not equally dristributed accross the two classes that are UN / not UN.\n",
    "\n",
    "In order to solve this problem, we decided to perform a propensity score matching among the PAs, having the UN involvment as a treatment. To do so, we matched the 68 UN peace agreements using a propensity score mathing algorithm (you can check our notebook for further details).\n",
    "\n",
    "We observe that, after these PAs are matched we have that only 30% of the agreements that did not include the UN ended. With this analysis, ee could think that the UN is performing worst than the other 3rd parties. But it is important to remember that we matched the PAs according to the caracteristics of the peace agreements, not the caracteristics of the conflicts. This means our analysis is still biased as we saw in the first part of this story that the UN solved conflicts that were more deadly and governmental than the other 3rd parties.\n",
    "\n",
    "Let's perform the matching on the conflicts as well to conclude our analysis."
   ]
  },
  {
   "cell_type": "code",
   "execution_count": null,
   "metadata": {
    "collapsed": true
   },
   "outputs": [],
   "source": [
    "#Matching on the PAs\n",
    "\n",
    "pa = pd.read_excel('data/ucdp-peace-agreements.xls')\n",
    "searchfor = ['UN', 'United Nations' , 'united nations' , 'ONU']\n",
    "pa_UN = pa[pa['pa_3rd'].astype(str).str.contains('|'.join(searchfor))]\n",
    "inter = list(set(pa_UN.PAID).intersection(pa.PAID))\n",
    "pa[\"UN\"] = [1 if ele in inter else 0 for ele in pa.PAID]\n",
    "pa[pa['UN'] == 1]\n",
    "\n",
    "reader = csv.reader(open('data/translate_conf.csv', 'r'))\n",
    "\n",
    "#Create a dictionnary that will have {New ID : Old ID} so we can make the link\n",
    "d = {}\n",
    "for row in reader:\n",
    "    k, v = row\n",
    "    d[v] = k\n",
    "    \n",
    "#pa.CID = pa.CID.astype(dtype=str).replace(to_replace=d )\n",
    "pa.CID = pa.CID.astype(str)\n",
    "#print(type(pa.CID))\n",
    "pa.CID = pa.CID.apply(lambda x: d[x])\n",
    "pa.CID = pa.CID.astype(dtype = int)\n",
    "\n",
    "\n",
    "cols = ['bwdID', 'pa_comment', 'c_sign', 'c_3rd', 'c_duration', 'Reaffirm ID', 'Comment', 'txt', \n",
    "        'Link to fulltext agreement', 'ProcID', 'Frame', 'All', 'Counter' , 'Duration']\n",
    "pa.drop(columns=cols, inplace=True)\n",
    "to_be_categorical = ['termdur' , 'noconf11' , 'CoVi01' ,'DyVi05' ]\n",
    "for categ in to_be_categorical:\n",
    "    pa[categ] = pd.Categorical(pa[categ] , pa[categ].unique())"
   ]
  },
  {
   "cell_type": "code",
   "execution_count": null,
   "metadata": {
    "collapsed": true
   },
   "outputs": [],
   "source": [
    "pa_reg = pa.iloc[:, 13:-1]\n",
    "#prepocess by standardizing the dataset\n",
    "pa_reg = preprocessing.scale(pa_reg)\n",
    "#Perform a logistic regression in order to get the propensity score for each individuals\n",
    "model = sklearn.linear_model.LogisticRegression()\n",
    "model.fit(pa_reg, pa.UN)\n",
    "pred = model.predict_proba(pa_reg)\n",
    "pa['pred'] = pred[:,1]\n",
    "G=nx.Graph()\n",
    "G.add_nodes_from(pa['PAID'][pa.UN == 0])\n",
    "G.add_nodes_from(pa['PAID'][pa.UN == 1])\n",
    "for ID_u, score_u in zip(pa.PAID[pa.UN == 0], pa.pred[pa.UN == 0]):\n",
    "    for ID_v, score_v in zip(pa.PAID[pa.UN == 1], pa.pred[pa.UN == 1]):\n",
    "        G.add_edge(ID_u, ID_v, weight=-abs(score_u-score_v))\n",
    "matching = max_weight_matching(G, maxcardinality=True)\n",
    "pa_UN = pa[pa['UN'] == 1]\n",
    "pa_UN['temp'] = 1\n",
    "pa_UN = pa_UN[['PAID' , 'pred' , 'temp']]\n",
    "pa_nUN = pa[pa['UN'] == 0]\n",
    "pa_nUN['temp'] = 1\n",
    "pa_nUN = pa_nUN[['PAID' , 'pred' , 'temp']]\n",
    "\n",
    "\n",
    "#We merge the two datasets thanks to the temp column, this new merged dataset mimics the complete bipartite graph:\n",
    "result = pd.merge(pa_nUN ,pa_UN , on='temp', how='left')\n",
    "result = result[['PAID_x' , 'PAID_y' , 'pred_x' , 'pred_y']]\n",
    "result['diff'] = abs(result['pred_x'] - result['pred_y'])\n",
    "result = result.set_index(['PAID_x', 'PAID_y'])\n",
    "result['diff'].isnull().values.any()\n",
    "paID = pa.set_index('PAID')\n",
    "matched = paID.loc[list(matching.keys())]"
   ]
  },
  {
   "cell_type": "code",
   "execution_count": null,
   "metadata": {
    "collapsed": true
   },
   "outputs": [],
   "source": [
    "pa.iloc[:, 13:-1].head()"
   ]
  },
  {
   "cell_type": "code",
   "execution_count": null,
   "metadata": {
    "collapsed": true,
    "scrolled": false
   },
   "outputs": [],
   "source": [
    "endeddic = {0: 'Active' , 1: 'Broken'}\n",
    "matched.ended.replace(endeddic , inplace= True)\n",
    "\n",
    "\n",
    "percent_categorical('ended', df=matched, grouper='UN' , \n",
    "                   order = ['Active' , 'Broken'] , title = ['Disitribution of the state of the PAs' , 'Number of PAs per classes'],\n",
    "                   label = 'State of the PA',\n",
    "                   legend = ['UN intervention' , 'without' , 'with'])\n",
    "\n",
    "\n",
    "\n",
    "#percent_categorical('ended', df=matched, grouper='UN')\n",
    "plt.savefig('images/lessnaive.png', transparent=True,  bbox_inches = 'tight')\n",
    "#result.loc[list(matching.items())].dropna().head()"
   ]
  },
  {
   "cell_type": "code",
   "execution_count": null,
   "metadata": {
    "collapsed": true
   },
   "outputs": [],
   "source": [
    "matched.groupby(['UN' , 'ended']).count()"
   ]
  },
  {
   "cell_type": "code",
   "execution_count": null,
   "metadata": {
    "collapsed": true
   },
   "outputs": [],
   "source": [
    "matrix = np.array([[47,45], [21, 23]])\n",
    "stats.chi2_contingency(matrix)"
   ]
  },
  {
   "cell_type": "markdown",
   "metadata": {},
   "source": [
    "## When matching on the conflicts as well\n",
    "\n",
    "When matching on the conflicts as well, we observe that 42% of the conflicts solved by another 3rd party than the UN failed. This is way higher than the fail rate of the UN that is of 33%. Performing a chi-square two sample test for equality of the proportion, we have a p-value of XXX . \n",
    "\n",
    "When matching on the conflicts, we observe that the UN peace agreements are way more stable than the ones performed by other 3rd parties. Indeed, we observed in the previous parts that the UN was taking care of a larger part of deadly governmental conflicts compared to the other 3rd parties.\n",
    "\n",
    "A naive analysis first showed us that the UN was performing as good as other 3rd parties if not worst, but when pushing this observational study further we showed that it is bringing more stability when it is involved in the resolution of a conflict."
   ]
  },
  {
   "cell_type": "code",
   "execution_count": null,
   "metadata": {
    "collapsed": true
   },
   "outputs": [],
   "source": [
    "agreements = pa.groupby('CID').last()\n",
    "print('Number of unique conflicts that had a peace agreement : %s' %(len(agreements.index)))\n",
    "UN_agreements = pa[pa['UN']==1].groupby('CID').last()\n",
    "Other_agreements = pa[pa['UN']==0].groupby('CID').last()\n",
    "print('Number of unique conflicts that had a UN peace agreement : %s' %(len(UN_agreements.index)))\n",
    "print('Number of unique conflicts that had a peace agreement that did not involve the UN: %s' %(len(Other_agreements.index)))\n",
    "clean_df[\"agreement\"] = [1 if ele in agreements.index else 0 for ele in clean_df.index]\n",
    "clean_df[\"UN_agreement\"] = [1 if ele in UN_agreements.index else 0 for ele in clean_df.index]\n",
    "clean_df[\"Other_agreement\"] = [1 if ele in Other_agreements.index else 0 for ele in clean_df.index]\n",
    "pa_UN_CID = pa.loc[pa['CID'].isin(clean_df[clean_df['UN_agreement'] == 1].index)]\n",
    "\n",
    "pa_UN_CID.ended.replace(endeddic , inplace= True)"
   ]
  },
  {
   "cell_type": "code",
   "execution_count": null,
   "metadata": {
    "collapsed": true
   },
   "outputs": [],
   "source": [
    "percent_categorical('ended', df=pa_UN_CID, grouper='UN' , \n",
    "                   order = ['Active' , 'Broken'] , title = ['Disitribution of the state of the PAs' , 'Number of PAs per classes'],\n",
    "                   label = 'State of the PA',\n",
    "                   legend = ['UN intervention' , 'without' , 'with'])\n",
    "plt.savefig('images/notnaive.png', transparent=True, bbox_inches = 'tight')"
   ]
  },
  {
   "cell_type": "code",
   "execution_count": null,
   "metadata": {
    "collapsed": true
   },
   "outputs": [],
   "source": [
    "pa_UN_CID[pa_UN_CID['UN'] == 1]\n",
    "pa_UN_CID.groupby('CID').count().shape"
   ]
  },
  {
   "cell_type": "code",
   "execution_count": null,
   "metadata": {
    "collapsed": true
   },
   "outputs": [],
   "source": [
    "pa_UN_CID.groupby(['UN' , 'ended']).count()"
   ]
  },
  {
   "cell_type": "code",
   "execution_count": null,
   "metadata": {
    "collapsed": true
   },
   "outputs": [],
   "source": [
    "matrix = np.array([[40,45], [29, 23]])\n",
    "stats.chi2_contingency(matrix)"
   ]
  },
  {
   "cell_type": "code",
   "execution_count": null,
   "metadata": {
    "collapsed": true
   },
   "outputs": [],
   "source": [
    "import math\n",
    "n1 = 69\n",
    "n2 = 68\n",
    "y1 = 29\n",
    "y2 = 23\n",
    "p1 = y1/n1\n",
    "p2 = y2/n2\n",
    "phat = (y1 + y2)/(n1 + n2)\n",
    "Z = (p1 - p2) / math.sqrt(phat * (1 - phat) * ((1/n1) + (1/n2)))\n",
    "Z2 = (p1 - p2) / math.sqrt( ((p1 * (1-p1))/n1)  + ((p2 * (1-p2))/n2))\n",
    "print(p1 , p2 , phat)\n",
    "print(Z)\n",
    "print(Z2)"
   ]
  },
  {
   "cell_type": "code",
   "execution_count": null,
   "metadata": {
    "collapsed": true
   },
   "outputs": [],
   "source": [
    "oddsratio, pvalue = stats.fisher_exact([[40, 45], [29, 23]])\n",
    "pvalue"
   ]
  },
  {
   "cell_type": "markdown",
   "metadata": {},
   "source": [
    "# 4. Map\n",
    "We created an interactive interface to present a wide view of the conflicts around the world with the possibility to get a deep insight into one conflict. It allows the user to travel trhough time and observe the evolution of conflicts and peace agreements around the world. The user can get deeper information on a conflict and its Peace Agreements in the right bar."
   ]
  },
  {
   "cell_type": "markdown",
   "metadata": {},
   "source": [
    "# 5. Conclusions\n",
    "Our study showed that...\n",
    "In the domain of conflict resolution, our study proved that the UN have a positive impact. IT should be noted that UN biggest challenges does not land in the resolution of existing conflicts but rather in the settlement of communication channels to avoid the creation of tensions between countries. For further research, An analysis of the interactions between state leaders and the tension level between countries. \n",
    "chef d'états en tension level between contries. "
   ]
  },
  {
   "cell_type": "code",
   "execution_count": null,
   "metadata": {
    "collapsed": true
   },
   "outputs": [],
   "source": []
  }
 ],
 "metadata": {
  "kernelspec": {
   "display_name": "Python 3",
   "language": "python",
   "name": "python3"
  },
  "language_info": {
   "codemirror_mode": {
    "name": "ipython",
    "version": 3
   },
   "file_extension": ".py",
   "mimetype": "text/x-python",
   "name": "python",
   "nbconvert_exporter": "python",
   "pygments_lexer": "ipython3",
   "version": "3.6.1"
  }
 },
 "nbformat": 4,
 "nbformat_minor": 2
}

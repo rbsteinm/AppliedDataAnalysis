{
 "cells": [
  {
   "cell_type": "code",
   "execution_count": null,
   "metadata": {
    "collapsed": true
   },
   "outputs": [],
   "source": [
    "import numpy as np\n",
    "import seaborn as sns\n",
    "import pandas as pd\n",
    "import matplotlib.pyplot as plt\n",
    "import itertools\n",
    "import csv\n",
    "import copy\n",
    "import sklearn.linear_model\n",
    "import json\n",
    "import re\n",
    "from sklearn import preprocessing\n",
    "%matplotlib inline\n",
    "%config InlineBackend.figure_format = 'retina'\n",
    "COLOR_TREAT = \"#2ecc71\"\n",
    "COLOR_NO_TREAT = \"#e74c3c\"\n",
    "import warnings\n",
    "warnings.filterwarnings('ignore')"
   ]
  },
  {
   "cell_type": "code",
   "execution_count": null,
   "metadata": {
    "collapsed": true
   },
   "outputs": [],
   "source": [
    "def percent_categorical(item, df=None, grouper='Active Status' , order = None , title = None , label = None) :\n",
    "    # plot categorical responses to an item ('column name')\n",
    "    # by percent by group ('diff column name w categorical data')\n",
    "    # select a data frame (default is IA)\n",
    "    # 'Active Status' is default grouper\n",
    "\n",
    "    # create df of item grouped by status\n",
    "    grouped = (df.groupby(grouper)[item]\n",
    "    # convert to percentage by group rather than total count\n",
    "                .value_counts(normalize=True)\n",
    "                # rename column \n",
    "                .rename('percentage')\n",
    "                # multiple by 100 for easier interpretation\n",
    "                .mul(100)\n",
    "                # change order from value to name\n",
    "                .reset_index()\n",
    "                .sort_values(item))\n",
    "\n",
    "    # create plot\n",
    "    f, axarr = plt.subplots(1, 2, figsize = (15,8))\n",
    "    sns.barplot(x=item,\n",
    "                         y='percentage',\n",
    "                         hue=grouper,\n",
    "                         data=grouped,\n",
    "                         palette='RdBu' , order = order , ax = axarr[0]\n",
    "                         )\n",
    "    \n",
    "    sns.countplot( x = item , data= df , hue = grouper , palette='RdBu' , order = order , ax = axarr[1])\n",
    "    \n",
    "    if title == None:\n",
    "        title = ['' , '']\n",
    "    \n",
    "    axarr[0].set_title(title[0])\n",
    "    axarr[1].set_title(title[1])\n",
    "    if label == None :\n",
    "        label = item\n",
    "    axarr[0].set_xlabel(label)\n",
    "    axarr[1].set_xlabel(label)\n",
    "    return axarr"
<<<<<<< Updated upstream
   ]
  },
  {
   "cell_type": "code",
   "execution_count": null,
   "metadata": {
    "collapsed": true
   },
   "outputs": [],
   "source": [
    "flatui = [\"#55ff00\",\"#73a659\", \"#a6595b\", \"#ff0004\"]\n",
    "sns.palplot(sns.color_palette(flatui))\n",
    "plt.savefig('legend.png', transparent=True)"
=======
>>>>>>> Stashed changes
   ]
  },
  {
   "cell_type": "markdown",
   "metadata": {},
   "source": [
    "# Do the United Nations peace agreements have an impact on conflicts resolution around the world ?\n",
    "\n",
    "# 1. Introduction\n",
    "\n",
    "The United Nations often gets criticised for all the wars it could not prevent and its impact in our society has often been questioned. The UN exist since 1945, although until today the amount of conflicts around the world has not significantly diminished, does this mean that the UN is inefficient ? The Israelo-Palestinian conflict is allmost as old as the UN and no Peace Agreements could completely stop it as of today, so does the efforts made through the UN organization are worth the results ? Such a question would request more than a statistical study to be answered. Hence, we will focus on studying the impact of the UN in the domain of conflict resolution. \n",
    " \n",
    " Our study aims at giving an objective analysis of the impact of UN peace agreements on the evolution of conflicts around the world. We present the results of our analysis as a data story. Information relative to both conflicts and peace treaties are displayed on a world map in order to get an insight on the impact they have on one another.\n",
    "\n",
    "To perform this, we used the UCDP dataset which provides information about the conflicts and peace agreements from 1975 to 2011."
   ]
  },
  {
   "cell_type": "markdown",
   "metadata": {},
   "source": [
    "# 2. Facts about conflicts and Peace Agreements"
   ]
  },
  {
   "cell_type": "markdown",
   "metadata": {},
   "source": [
    "## 2.1 Conflicts"
   ]
  },
  {
   "cell_type": "code",
   "execution_count": null,
   "metadata": {},
   "outputs": [],
   "source": [
    "#For nb of deaths\n",
    "precisedf = pd.read_csv('data/ged171.csv')\n",
    "\n",
    "#Import the Peace Agreement dataset and the translation table to get the new IDs\n",
    "pa = pd.read_excel('data/ucdp-peace-agreements.xls')\n",
    "searchfor = ['UN', 'United Nations' , 'united nations' , 'ONU']\n",
    "pa_UN = pa[pa['pa_3rd'].astype(str).str.contains('|'.join(searchfor))]\n",
    "inter = list(set(pa_UN.PAID).intersection(pa.PAID))\n",
    "pa[\"UN\"] = [1 if ele in inter else 0 for ele in pa.PAID]\n",
    "pa[pa['UN'] == 1]\n",
    "\n",
    "reader = csv.reader(open('data/translate_conf.csv', 'r'))\n",
    "\n",
    "#Create a dictionnary that will have {New ID : Old ID} so we can make the link\n",
    "d = {}\n",
    "for row in reader:\n",
    "    k, v = row\n",
    "    d[v] = k\n",
    "    \n",
    "#pa.CID = pa.CID.astype(dtype=str).replace(to_replace=d )\n",
    "pa.CID = pa.CID.astype(str)\n",
    "#print(type(pa.CID))\n",
    "pa.CID = pa.CID.apply(lambda x: d[x])\n",
    "pa.CID = pa.CID.astype(dtype = int)\n",
    "\n",
    "#Import the conflict dataset\n",
    "df = pd.read_csv('data/ucdp-prio-acd-171.csv')\n",
    "df.drop(['sidea2nd', 'sideb2nd' , 'terr' , 'year' , 'intensity' , 'startprec' , 'startdate2' , 'epend' , 'ependprec', 'gwnoa', 'gwnoa2nd', 'gwnob', 'gwnob2nd', 'gwnoloc', 'startprec2', 'version', 'sidebid'], axis=1, inplace = True)\n",
    "clean_df = df.groupby('conflictid').last()\n",
    "agreements = pa.groupby('CID').last()\n",
    "UN_agreements = pa[pa['UN']==1].groupby('CID').last()\n",
    "Other_agreements = pa[pa['UN']==0].groupby('CID').last()\n",
    "clean_df[\"agreement\"] = [1 if ele in agreements.index else 0 for ele in clean_df.index]\n",
    "clean_df[\"UN_agreement\"] = [1 if ele in UN_agreements.index else 0 for ele in clean_df.index]\n",
    "clean_df[\"Other_agreement\"] = [1 if ele in Other_agreements.index else 0 for ele in clean_df.index]\n",
    "clean_df.rename({'ependdate':'enddate'} , inplace = True, axis = 1)\n",
    "clean_df['startdate'] = pd.to_datetime(clean_df['startdate'])\n",
    "clean_df['enddate'] = pd.to_datetime(clean_df['enddate'])\n",
    "clean_df['duration'] = (clean_df['enddate'] - clean_df['startdate']).dt.days\n",
    "regiondic = {'1':'Europe' , '2': 'Middle East', '3': 'Asia' , '4': 'Africa' , '5':'Americas' , '1, 3' : 'Asia',\n",
    "            '1, 2' : 'Middle East' , '1, 4':'Africa' ,'1, 5': 'Americas','1, 2, 3, 5' :'Middle East' , '1, 3, 5' : 'Middle East'}\n",
    "typedic = {1 : 'Extrasystemic' , 2 : 'Interstate' , 3 : 'Internal' , 4: 'Internationalized'}\n",
    "incompdic = {1 : 'Territory' , 2: 'Government' , 3: 'Government and Territory'}\n",
    "cumintdic = {0: 'Less than 1000 deaths' , 1: 'More than 1000 deaths'}\n",
    "clean_df.region.replace(regiondic , inplace= True)\n",
    "clean_df.type.replace(typedic , inplace= True)\n",
    "clean_df.incomp.replace(incompdic , inplace = True)\n",
    "clean_df.cumint.replace(cumintdic , inplace = True)\n",
    "ag = clean_df[clean_df['agreement'] == 1]\n",
    "clean_df[clean_df['agreement'] == 1].head()"
   ]
  },
  {
   "cell_type": "markdown",
   "metadata": {},
   "source": [
    "# `Region` distribution\n",
    "\n",
    "## With respect to the PA\n",
    "\n",
    "We observe that the regions are not equally distributed, a large proportion of conflicts that take part in Europe or in Africa benefits from a or several peace agreements whereas there is almost no peace agreements in the Middle East or in Asia. \n",
    "\n",
    "The two distributions are indeed very different.\n",
    "\n",
    "If we look at the percentage of conflicts that received a PA for each regions, we notice that 1/3$^{rd}$ of the conflicts received a peace agreements in Africa, 1/4$^{th}$ in Europe, but only 7% in the Middle East."
   ]
  },
  {
   "cell_type": "code",
   "execution_count": null,
   "metadata": {
    "scrolled": true
   },
   "outputs": [],
   "source": [
    "regper = (clean_df[clean_df['agreement'] == 1].groupby('region').count() /(clean_df[clean_df['agreement'] == 0].groupby('region').count() + clean_df[clean_df['agreement'] == 1].groupby('region').count()))['location']\n",
    "sns.barplot( x = regper.index , y = (regper.values*100) , color = sns.xkcd_rgb['light blue'] )\n",
    "plt.xlabel('Regions')\n",
    "plt.title('Repartition of the conflicts across the regions')\n",
    "plt.savefig('images/regionrep.png', transparent=True)"
   ]
  },
  {
   "cell_type": "code",
   "execution_count": null,
   "metadata": {
    "scrolled": false
   },
   "outputs": [],
   "source": [
    "percent_categorical('region' , df= clean_df , grouper = 'agreement' , \n",
    "                    order = ['Africa' , 'Asia' , 'Americas' , 'Europe' , 'Middle East'],\n",
    "                   title = ['Distribution of conflicts across the regions' , 'Number of conflicts per region'] ,\n",
    "                    label = 'Region')\n",
    "plt.savefig('images/RegionAG.png', transparent=True)"
   ]
  },
  {
   "cell_type": "markdown",
   "metadata": {},
   "source": [
    "## With repsect to the UN\n",
    "\n",
    "Here we filter the conflicts in order to only vizualize those who benefited from a peace agreements. We want to study if the distribution for the CID that benefited from a PA where the UN were involved is the same as the distribution for the CID that benefited from a PA where the UN were not involved.\n",
    "Here the distributions are looking alike. The only outliers we would have are for the Middle East and Americas regions. Indeed, in our database the UN never took part in a peace agreement for the Middle East region."
   ]
  },
  {
   "cell_type": "code",
   "execution_count": null,
   "metadata": {},
   "outputs": [],
   "source": [
    "percent_categorical('region' , df= ag , grouper = 'UN_agreement' , \n",
    "                    order = ['Africa' , 'Asia' , 'Americas' , 'Europe' , 'Middle East'],\n",
    "                    title = ['Distribution of the conflicts that benefited from a PA across the regions' , 'Number of conflicts that benefited from a PA per region'] \n",
    "                     , label = 'Region');\n",
    "plt.savefig('images/RegionCUN.png', transparent=True)"
   ]
  },
  {
   "cell_type": "markdown",
   "metadata": {},
   "source": [
    "# `Type` distribution\n",
    "\n",
    "## With respect to the PAs\n",
    "\n",
    "The large majority of the conflicts are internal conflicts, followed by internationalized and interstatical conflicts.\n",
    "Extrasystemic conflicts (represents colonial conflicts) did not receive any peace agreements.\n",
    "Otherwise, the distribution is almost the same for agreements or not. "
   ]
  },
  {
   "cell_type": "code",
   "execution_count": null,
   "metadata": {},
   "outputs": [],
   "source": [
    "percent_categorical('type' , df= clean_df , grouper = 'agreement' , \n",
    "                    order = ['Extrasystemic' , 'Interstate' , 'Internal' , 'Internationalized'],\n",
    "                   title = ['Distribution of conflicts type' , 'Number of conflicts per different type'],\n",
    "                   label = 'Type of conflict');\n",
    "plt.savefig('images/typeAG.png', transparent=True)"
   ]
  },
  {
   "cell_type": "markdown",
   "metadata": {},
   "source": [
    "## With respect to the UN \n",
    "\n",
    "Here we can see a bit of a difference between the distributions. Indeed, when we look at the conflict solved by the UN, Internationalized conflicts represents 20% of it whereas it's less than 10% for the conflicts that received a Peace Agreement but not from the UN.\n",
    "\n",
    "The UN seem to be more focused on Internationalized conflicts than Interstate conflicts compared to the control distribution."
   ]
  },
  {
   "cell_type": "code",
   "execution_count": null,
   "metadata": {},
   "outputs": [],
   "source": [
    "percent_categorical('type' , df= ag , grouper = 'UN_agreement' , \n",
    "                    order = ['Interstate' , 'Internal' , 'Internationalized'],\n",
    "                   title = ['Distribution of the conflicts type that benefited from a PA' , 'Number of conflicts that benefited from a PA per conflict type'],\n",
    "                   label = 'Type of conflict');\n",
    "plt.savefig('images/typeCUN.png', transparent=True)"
   ]
  },
  {
   "cell_type": "markdown",
   "metadata": {},
   "source": [
    "# `Incomp` distribution\n",
    "\n",
    "## With respect to the agreements\n",
    "\n",
    "There is very few conflicts that began because of a *Government and Territory* incompatibility. The distribution of the CID that did not receive a peace agreement is strongly around Territorial incompatibility whereas the one for the CID that benifited from an agreement is even between Terrytory and Government incomp."
   ]
  },
  {
   "cell_type": "code",
   "execution_count": null,
   "metadata": {},
   "outputs": [],
   "source": [
    "percent_categorical('incomp' , df= clean_df , grouper = 'agreement' , \n",
    "                    order = [ 'Territory' , 'Government' , 'Government and Territory'],\n",
    "                   title = ['Distribution of the incompatibilities' , 'Number of conflicts per different incompatibilities'],\n",
    "                   label = 'Incompatibility that led to the conflict')\n",
    "plt.savefig('images/incompAG.png', transparent=True)"
   ]
  },
  {
   "cell_type": "markdown",
   "metadata": {},
   "source": [
    "## With respect to the UN\n",
    "\n",
    "Here the distributions are very different. Indeed, the distribution for the UN is centered around Government incomp (more than 70% of the conflicts solved by the UN) whereas the conflicts that were not solved by the UN are more centered around conflicts that began because of a Territorial incompatibility."
   ]
  },
  {
   "cell_type": "code",
   "execution_count": null,
   "metadata": {},
   "outputs": [],
   "source": [
    "percent_categorical('incomp' , df= ag , grouper = 'UN_agreement' , \n",
    "                    order = [ 'Territory' , 'Government' , 'Government and Territory'],\n",
    "                    title = ['Distribution of the incompatibilities for the CIDS that benefited from a PA' , 'Number of conflicts that benefited from a PA per different incompatibilities'],\n",
    "                   label = 'Incompatibility that led to the conflict')\n",
    "plt.savefig('images/incompCUN.png', transparent=True)"
   ]
  },
  {
   "cell_type": "markdown",
   "metadata": {},
   "source": [
    "# Number of deaths\n",
    "\n",
    "## With respect to PA"
   ]
  },
  {
   "cell_type": "code",
   "execution_count": null,
   "metadata": {
    "scrolled": false
   },
   "outputs": [],
   "source": [
    "percent_categorical('cumint' , df= clean_df , grouper = 'agreement' , \n",
    "                    order = ['Less than 1000 deaths' , 'More than 1000 deaths'] ,\n",
    "                   title = ['Distribution for the number of deaths' , 'Number of conflicts per classes'],\n",
    "                   label = 'Number of deaths')\n",
    "plt.savefig('images/cumintAG.png', transparent=True)"
   ]
  },
  {
   "cell_type": "markdown",
   "metadata": {},
   "source": [
    "## With respect to the UN"
   ]
  },
  {
   "cell_type": "code",
   "execution_count": null,
   "metadata": {},
   "outputs": [],
   "source": [
    "percent_categorical('cumint' , df= ag , grouper = 'UN_agreement' , \n",
    "                    order = ['Less than 1000 deaths' , 'More than 1000 deaths'],\n",
<<<<<<< Updated upstream
    "                   title = ['Distribution for the number of deaths for the CID that ben' , 'Number of conflicts per classes'])\n",
=======
    "                   title = ['Distribution for the number of deaths for the CIDs with a PA' , 'Number of conflicts per classes for the CIDs with a PA'],\n",
    "                   label = 'Number of deaths')\n",
>>>>>>> Stashed changes
    "plt.savefig('images/cumintCUN.png', transparent=True)"
   ]
  },
  {
   "cell_type": "markdown",
   "metadata": {},
   "source": [
    "## 2.2 Peace Agreements\n",
    "The Peace Agreements contain a lot of information about the type of conflict they aim to solve, their own power of violence dissipation and the technicalities that should be set up to bring a more civilized life to the people concerned by the conflict. There are three main types of peace agreements :\n",
    "\n",
    "-------------- faire un tableau ------------\n",
    "- Full peace agreement\n",
    "- Partial peace agreement\n",
    "- Peace process agreement\n",
    "\n",
    "--------------faire un tableau---------------\n",
    "\n",
    "Obviously, this goes from the most executive agreement to the least executive agreement, athough it does not translate the power of a Peace Agreement. Each Peac Agreement is defined by a few charateristics for each type of political provision (a provision is a clause in legal instrument). Below we give a definition for each type of provision.\n",
    "\n",
    "-------------- faire un tableau ------------\n",
    "- Behavioral conduct of the warring parties\n",
    "- Regulation of governmental incompatibility\n",
    "- Regulation of territorial incompatibility\n",
    "- Justice issues\n",
    "\n",
    "-------------- faire un tableau ------------\n",
    "\n",
    "8 peace agreements with UN. out of the 8 PAs only 1 is still valid as of today\n",
    "PA with UN represents X% of the PA's. Hence a matching analysis must be made to "
   ]
  },
  {
   "cell_type": "code",
   "execution_count": null,
   "metadata": {
    "collapsed": true
   },
   "outputs": [],
   "source": [
    "pa = pd.read_excel('data/ucdp-peace-agreements.xls')\n",
    "cols = ['bwdID', 'pa_comment', 'c_sign', 'c_3rd', 'c_duration', 'Reaffirm ID', 'Comment', 'txt', \n",
    "        'Link to fulltext agreement', 'ProcID', 'Frame', 'All', 'Counter' , 'Duration']\n",
    "pa.drop(columns=cols, inplace=True)\n",
    "regiondic = {\n",
    "    1:'Europe',\n",
    "    2:'Middle East',\n",
    "    3:'Asia',\n",
    "    4:'Africa',\n",
    "    5:'Americas'\n",
    "}\n",
    "paType = {1:'Full',2:'Partial',3:'Peace Process'}\n",
    "incompatibility = {1:'Territorial', 2:'Governmental',3:'Territorial & Governmental'}\n",
    "pa['pa_type'].replace(paType, inplace=True)\n",
    "pa['Region'].replace(regiondic, inplace=True)\n",
    "pa['Inc'].replace(incompatibility, inplace=True)\n",
    "\n",
    "searchfor = ['UN', 'United Nations' , 'united nations' , 'ONU']\n",
    "pa_UN = pa[pa['pa_3rd'].astype(str).str.contains('|'.join(searchfor))]\n",
    "inter = list(set(pa_UN.PAID).intersection(pa.PAID))\n",
    "pa[\"UN\"] = [1 if ele in inter else 0 for ele in pa.PAID]"
   ]
  },
  {
   "cell_type": "code",
   "execution_count": null,
   "metadata": {},
   "outputs": [],
   "source": [
    "plt.figure(figsize=(15,5))\n",
    "sns.countplot(x='Year', data=pa, hue='UN')\n",
<<<<<<< Updated upstream
    "plt.title('Distribution of the Peace Agreements by year')\n",
    "plt.savefig('images/PA_year.pdf', transparent=True)"
=======
    "plt.savefig('images/PA_year.png', transparent=True)"
>>>>>>> Stashed changes
   ]
  },
  {
   "cell_type": "markdown",
   "metadata": {},
   "source": [
    "### Year distibution of Peace agreements\n",
    "1991 is the year where most peace agreements were signed. There has been two periods with a low amount of peace agreement, from 1983 to 1987 and from 2009 to 2011. Until 1990, The UN were not taking part to Peace agreements except for the Peace Process agreement between Namibia and South Africa in 1978."
   ]
  },
  {
   "cell_type": "code",
   "execution_count": null,
   "metadata": {},
   "outputs": [],
   "source": [
    "plt.figure(figsize=(15,5));\n",
    "sns.countplot(x='pa_type', data=pa, palette=sns.cubehelix_palette(800, start=2, rot=0.3, dark=0.5, light=.95, reverse=True),\n",
    "             order= pa.pa_type.value_counts().index)#col='UN', kind='count', size=6);"
   ]
  },
  {
   "cell_type": "code",
   "execution_count": null,
   "metadata": {},
   "outputs": [],
   "source": [
    "percent_categorical('pa_type' , df=pa , grouper = 'UN' , order = pa.pa_type.value_counts().index);\n",
<<<<<<< Updated upstream
    "plt.suptitle('Percentage and count plot of Peace Agreements by their incompatibility type')\n",
    "plt.savefig('images/PA_typeInc.pdf', transparent=True)"
=======
    "plt.savefig('images/PA_typeInc.png', transparent=True)"
>>>>>>> Stashed changes
   ]
  },
  {
   "cell_type": "markdown",
   "metadata": {},
   "source": [
    "### Executive strength of peace agreements\n",
    "Most peace agreements are partial peace agreements. Peace Process agreements are generally agreements that are signed at the begginning of a conflict and call for future peace agreements. This figure that UN involvment in the peace agreements does not change much the distribution of the the PAs types. "
   ]
  },
  {
   "cell_type": "code",
   "execution_count": null,
   "metadata": {},
   "outputs": [],
   "source": [
    "plt.figure(figsize=(20,10))\n",
    "sns.countplot(x='CID', data=pa, hue='ended', order=pa.CID.value_counts().index)\n",
<<<<<<< Updated upstream
    "plt.title('Number of Peace Agreements per conflict')\n",
    "plt.savefig('images/PA_CID.pdf', transparent=True)"
=======
    "plt.savefig('images/PA_CID.png', transparent=True)"
>>>>>>> Stashed changes
   ]
  },
  {
   "cell_type": "markdown",
   "metadata": {},
   "source": [
    "This figure shows that some conflicts used more than one Peace Agreement. \n",
    "\n",
    "Conflict 36 is an example of a conflict where multiple agreements were needed to achieve peace. This conflict concerns the Government of Guatemala and the Guatemalan National Revolutionary Unity. 16 peace agreements were signed in six years and all of them are still valid as of today. \n",
    "\n",
    "On the other hand, conflict 128 is an example of a conflict where all of its agreements ended. This conflict was between Iran and Iraq. Each of the 12 agreements were signed in 1975. Despite the first agreements, that was signed by The Shah of Iran and Saddam Hussein, all of them were signed by the same two representatives of Iran and Iraq, respectively by ABBAS-ALI KHALATBARY, Minister for Foreign Affairs of Iran and SAADOUN HAMADI, Minister for Foreign Affairs of Iraq. These agreements that were active in 1975, were than terminated between 1975 and 1980 until they were reactivated. Although the agreements were reactivated in 1980. Conflicts between Iran and Iraq did not stop in 1980, hence we can consider those agreements as failures.\n",
    "\n",
    "**Conflict 179 :**\n",
    "\n",
    "This conflict concerned the Government of the Republic of Rwanda and the Rwandese Patriotic Front. The six agreements were signed between 1992 and 1993. The incompatibility is governmental.\n",
    "The five first agreements were signed to provide partial peace and the last one in august 1993 was supposed to prvide full peace to the region. None of the agreements provided for the holding of national talks to solve incompatibility and for the integration of rebels into civil service.\n",
    "In April 1994, a genocide broke out and the peace agreements were never fully implemented.\n",
    "\n",
    "**Conflict 101 : **\n",
    "\n",
    "This conflict originated from a governmental incompatibility between South Africa and Namibia. The agreement was signed in 1978 and lasted two months. The agreement contained provisions for political incompatibilities leading to independence for Namibia, justice provisions with the return of refugees and release of political prisoners and behavior regulations such as (ceasefire, withdrawal of foreign forces and demobilisation of local armies).\n",
    " \n",
    "**Conflict 216 : **\n",
    "\n",
    "Government of Guinea Bissau - Military Junta for the Consolidation of Democracy, Peace and Justice. Incompatibility 2, The peace agreement lasted for 6 months.\n",
    "\n",
    "** Conflict 205 : **\n",
    "\n",
    "The agreement covered indigenous rights and culture and strengthened the position of the indigenous people in Mexico. incompatibility 2. The accord was never implemented and thus further peace talks that were planned in September the same year were suspended by EZLN. No exact date for the ending of the peace accord has been found.\n",
    "\n",
    "All of the conflicts that were treated by only one agreement and had terminated originated from governmental imcompabilities. "
   ]
  },
  {
   "cell_type": "markdown",
   "metadata": {},
   "source": [
    "### Regulation of warring parties behavior\n",
    "Most Peace Agreements that contain behavioral clauses provide for a ceasefire and the disarmement of foreign forces. s were never terminated. The ones which provided for the creation of a new national army or the integration of rebels into the army and the withdrawal of foreign forces.\n",
    "\n",
    "### Regulation of governmental incompatibilities\n",
    "72% of the Peace agreements concern governmental incompabiliities.\n",
    "Peace agreements that provide governmental provisions mostly provide for elections and electoral reforms for rebel integration into the interim government. The main difference that can be observed between UN agreements and non UN agreements is that the UN agreements usually provide provisions for an interim government and elections while non UN agreements msotly only provide provisions for an election.\n",
    "\n",
    "### Regulation of territorial incompatibilities\n",
    "Territorial conflicts are mostly treated by Peace Agreements with clauses about the demarcation of a border or the government granting the disputed region to the other warring party."
   ]
  },
  {
   "cell_type": "code",
   "execution_count": null,
   "metadata": {},
   "outputs": [],
   "source": [
    "def create_category(x):\n",
    "    if x.Inc == 'Governmental' and x.ended == 1:\n",
    "        val = 'Gov_x'\n",
    "    elif x.Inc == 'Governmental' and x.ended == 0:\n",
    "        val = 'Gov_v'\n",
    "    elif x.Inc == 'Territorial' and x.ended == 1:\n",
    "        val = 'Terr_x'\n",
    "    elif x.Inc == 'Territorial' and x.ended == 0:\n",
    "        val = 'Terr_v'  \n",
    "    elif x.Inc == 'Territorial & Governmental' and x.ended == 1:\n",
    "        val = 'Gov/Terr_x'\n",
    "    else:\n",
    "        val = 'Gov/Terr_v' \n",
    "    return val\n",
    "pa['Inc_eval'] = pa.apply(create_category,axis=1)\n",
    "percent_categorical('Inc_eval', df=pa, grouper='UN', order=pa.Inc_eval.unique());\n",
<<<<<<< Updated upstream
    "plt.suptitle('Percentage and count plot of succesful and unsuccessful Peace agreement by their incompatibility type')\n",
    "plt.savefig('images/PA_Inc.pdf', transparent=True)"
=======
    "plt.savefig('images/PA_Inc.png', transparent=True)"
>>>>>>> Stashed changes
   ]
  },
  {
   "cell_type": "code",
   "execution_count": null,
   "metadata": {
    "collapsed": true
   },
   "outputs": [],
   "source": [
    "pa.Inc_eval.value_counts()"
   ]
  },
  {
   "cell_type": "markdown",
   "metadata": {},
   "source": [
    "----------- faire tableau -----------\n",
    "- type of incompatibility \\ success rate\n",
    "- Governmental \\ 0.65\n",
    "- Territorial  \\ 0.78\n",
    "- Gov & Terr   \\ 0.07\n",
    "\n",
    "------------ faire tableau ----------\n",
    "\n",
    "The figure above shows that UN is more involved in governmental conflicts than territorial ones and has a higher percentage of success than ones where it is not involved. The UN never took part to Peace Agreements supposing to settle governmental and territorial conflicts. The governmental and territorial conflicts are the ones with the lowest success rate."
   ]
  },
  {
   "cell_type": "code",
   "execution_count": null,
   "metadata": {
    "collapsed": true
   },
   "outputs": [],
   "source": [
    "pa.Justice_prov.value_counts()\n",
    "130/216"
   ]
  },
  {
   "cell_type": "code",
   "execution_count": null,
   "metadata": {
    "collapsed": true
   },
   "outputs": [],
   "source": [
    "percent_categorical('Justice_prov', df=pa, grouper='UN', order=pa.Justice_prov.unique());\n",
<<<<<<< Updated upstream
    "plt.suptitle('Percentage and countplot of Peace Agreements containing a justice provision')\n",
    "plt.savefig('images/PA_Justice.pdf', transparent=True)"
=======
    "plt.savefig('images/PA_Justice.png', transparent=True)"
>>>>>>> Stashed changes
   ]
  },
  {
   "cell_type": "markdown",
   "metadata": {},
   "source": [
    "### Regulation of justice issues\n",
    "60% of the Peace agreemenets contain a clause concerning justice. The most recurring clause is the release of prisoners. \n",
    "# 3. Impact of the UN\n",
    "The UN is present in 31% of the agreements but took part to at least on PA for allmost all conflicts. Hence we will set up our treat and control group on conflicts where the UN \n",
    "# 4. Map\n",
    "We created an interactive interface to present a wide view of the conflicts around the world with the possibility to get a deep insight into one conflict. It allows the user to travel trhough time and observe the evolution of conflicts and peace agreements around the world. The user can get deeper information on a conflict and its Peace Agreements in the right bar."
   ]
  },
  {
   "cell_type": "markdown",
   "metadata": {},
   "source": [
    "# 5. Conclusions\n",
    "Our study showed that...\n",
    "In the domain of conflict resolution, our study proved that the UN have a positive impact. IT should be noted that UN biggest challenges does not land in the resolution of existing conflicts but rather in the settlement of communication channels to avoid the creation of tensions between countries. For further research, An analysis of the interactions between state leaders and the tension level between countries. \n",
    "chef d'états en tension level between contries. "
   ]
  },
  {
   "cell_type": "code",
   "execution_count": null,
   "metadata": {
    "collapsed": true
   },
   "outputs": [],
   "source": []
  }
 ],
 "metadata": {
  "kernelspec": {
   "display_name": "Python 3",
   "language": "python",
   "name": "python3"
  },
  "language_info": {
   "codemirror_mode": {
    "name": "ipython",
    "version": 3
   },
   "file_extension": ".py",
   "mimetype": "text/x-python",
   "name": "python",
   "nbconvert_exporter": "python",
   "pygments_lexer": "ipython3",
   "version": "3.6.0"
  }
 },
 "nbformat": 4,
 "nbformat_minor": 2
}

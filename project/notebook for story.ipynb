{
 "cells": [
  {
   "cell_type": "markdown",
   "metadata": {},
   "source": [
    "# Do the United Nations peace agreements have an impact on conflicts resolution around the world ?\n",
    "\n",
    "# 1. Introduction\n",
    "\n",
    "The United Nations often gets criticised for all the wars it could not prevent and its impact in our society has often been questioned. Our study aims at giving an objective analysis of the impact of UN peace agreements on the evolution of conflicts around the world. The results of our analysis will be presented as a data story: we will display information relative to both conflicts and peace treaties on a world map in order to have an insight on the impact they have on one another. We will use a time slider to show the evolution of the aforementioned data through time. Therefore, the world map will, for example, show if a peace treaty brings some kind of stability in a region that was struggling with conflicts.\n",
    "\n",
    "To perform this, we will use the UCDP dataset which provides the information we need about conflicts and peace agreements from 1975 to 2011."
   ]
  },
  {
   "cell_type": "markdown",
   "metadata": {},
   "source": [
    "# 2. Facts about conflicts and Peace Agreements"
   ]
  },
  {
   "cell_type": "markdown",
   "metadata": {},
   "source": [
    "## 2.1 Conflicts"
   ]
  },
  {
   "cell_type": "markdown",
   "metadata": {},
   "source": [
    "## 2.2 Peace Agreements"
   ]
  },
  {
   "cell_type": "markdown",
   "metadata": {},
   "source": [
    "# 3. Impact of the UN"
   ]
  },
  {
   "cell_type": "markdown",
   "metadata": {},
   "source": [
    "# 4. Map"
   ]
  },
  {
   "cell_type": "markdown",
   "metadata": {},
   "source": [
    "# 5. Conclusions"
   ]
  },
  {
   "cell_type": "code",
   "execution_count": null,
   "metadata": {
    "collapsed": true
   },
   "outputs": [],
   "source": []
  }
 ],
 "metadata": {
  "kernelspec": {
   "display_name": "Python 3",
   "language": "python",
   "name": "python3"
  },
  "language_info": {
   "codemirror_mode": {
    "name": "ipython",
    "version": 3
   },
   "file_extension": ".py",
   "mimetype": "text/x-python",
   "name": "python",
   "nbconvert_exporter": "python",
   "pygments_lexer": "ipython3",
   "version": "3.6.1"
  }
 },
 "nbformat": 4,
 "nbformat_minor": 2
}

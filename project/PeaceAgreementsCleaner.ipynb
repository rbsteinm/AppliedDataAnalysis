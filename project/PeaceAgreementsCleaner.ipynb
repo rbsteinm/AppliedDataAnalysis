{
 "cells": [
  {
   "cell_type": "code",
   "execution_count": null,
   "metadata": {
    "collapsed": true
   },
   "outputs": [],
   "source": [
    "import numpy as np\n",
    "import seaborn as sns\n",
    "import pandas as pd\n",
    "import matplotlib.pyplot as plt\n",
    "import itertools\n",
    "import csv\n",
    "import copy\n",
    "import sklearn.linear_model\n",
    "import json\n",
    "import re\n",
    "from sklearn import preprocessing\n",
    "%matplotlib inline\n",
    "%config InlineBackend.figure_format = 'retina'\n",
    "COLOR_TREAT = \"#2ecc71\"\n",
    "COLOR_NO_TREAT = \"#e74c3c\"\n",
    "import warnings\n",
    "warnings.filterwarnings('ignore')"
   ]
  },
  {
   "cell_type": "code",
   "execution_count": null,
   "metadata": {
    "collapsed": true
   },
   "outputs": [],
   "source": [
    "pa = pd.read_excel('data/ucdp-peace-agreements.xls')"
   ]
  },
  {
   "cell_type": "markdown",
   "metadata": {},
   "source": [
    "In order to prepare the table that will be used to display the peace agreements on our map, we clean the peace agreement dataset. First we chose to keep specific features in the table. \n",
    "\n",
    "**Peace agreement identification :**\n",
    "- PAID : Peace Agreement ID\n",
    "- pa_name : Peace Agreement name\n",
    "- CID : Conflict ID\n",
    "- Name : Conflict Name\n",
    "- GWNO : Country code\n",
    "\n",
    "**Peace agreement characteristics :**\n",
    "- Inc : incompability (Territory, Government, Government/Territory)\n",
    "- pa_date : PA signature date\n",
    "- ended\n",
    "- duration : date when PA is ended\n",
    "\n",
    "**Comments on the peace agreement :**\n",
    "- pa_comment : comments on the pa\n",
    "- c_duration :  comment on agreement duration\n",
    "- Link to fulltext agreement : pdf link\n",
    "\n",
    "**Peace agreement type characteristics :**\n",
    "- Mil_prov : Behavioral conduct of the warring parties\n",
    "- Pol_prov : Regulation of governmental incompatibility\n",
    "- Terr_prov : Regulation of territorial incompatibility\n",
    "- Justice_prov : Justice issues\n",
    "\n",
    "\n",
    "\n",
    "\n",
    "**Reference : **\n",
    "Högbladh, Stina, 2011. ”Peace agreements 1975-2011 - Updating the UCDP Peace Agreement dataset”, in Pettersson Therése & Lotta Themnér (eds.), 2012, States in Armed Conflict 2011, Uppsala University: Department of Peace and Conflict Research Report 99\n",
    "Harbom, Lotta, Stina Högbladh and Peter Wallensteen. 2006. “Armed Conflict and Peace Agreements.” Journal of Peace Research 43(5)"
   ]
  },
  {
   "cell_type": "code",
   "execution_count": null,
   "metadata": {
    "collapsed": true
   },
   "outputs": [],
   "source": [
    "cols = ['PAID', 'GWNO', 'CID', 'Name', 'Inc', 'pa_name', 'pa_date ', 'pa_comment', 'ended', 'Duration', 'c_duration', \n",
    "        'Link to fulltext agreement', 'Mil_prov', 'Pol_prov', 'Terr_prov', 'Justice_prov']"
   ]
  },
  {
   "cell_type": "code",
   "execution_count": null,
   "metadata": {},
   "outputs": [],
   "source": [
    "pa_clean = pa[cols]\n",
    "#pa_clean.head(60)\n",
    "pa_clean"
   ]
  },
  {
   "cell_type": "code",
   "execution_count": null,
   "metadata": {
    "collapsed": true
   },
   "outputs": [],
   "source": [
    "reader = csv.reader(open('data/translate_conf.csv', 'r'))\n",
    "\n",
    "#Create a dictionnary that will have {New ID : Old ID} so we can make the link\n",
    "d = {}\n",
    "for row in reader:\n",
    "    k, v = row\n",
    "    d[v] = k\n",
    "\n",
    "pa_clean.CID = pa_clean.CID.astype(dtype=str)\n",
    "pa_clean.CID = pa_clean.CID.apply(lambda x: d[x])"
   ]
  },
  {
   "cell_type": "code",
   "execution_count": null,
   "metadata": {
    "collapsed": true
   },
   "outputs": [],
   "source": [
    "reader = csv.reader(open('data/GWNO.csv', 'r'))\n",
    "#Create a dictionnary that will have {New ID : Old ID} so we can make the link\n",
    "d = {}\n",
    "for row in reader:\n",
    "    k, v = row\n",
    "    d[k] = v"
   ]
  },
  {
   "cell_type": "code",
   "execution_count": null,
   "metadata": {
    "collapsed": true
   },
   "outputs": [],
   "source": [
    "def clean2sides(sides):\n",
    "    codec = ''\n",
    "    for side in sides.split(', '):\n",
    "        codec += d[side] + ','\n",
    "    codec = codec.strip()\n",
    "    return codec[:-1] #remove last comma"
   ]
  },
  {
   "cell_type": "code",
   "execution_count": null,
   "metadata": {},
   "outputs": [],
   "source": [
    "#pa_clean['location'] = pa_clean.GWNO.astype(dtype=str).replace(to_replace=d )\n",
    "pa_clean['location'] = pa_clean.GWNO.astype(dtype=str).apply(clean2sides)\n",
    "pa_clean"
   ]
  },
  {
   "cell_type": "code",
   "execution_count": null,
   "metadata": {
    "collapsed": true
   },
   "outputs": [],
   "source": [
    "pa_clean.drop(columns='GWNO', inplace=True)"
   ]
  },
  {
   "cell_type": "code",
   "execution_count": null,
   "metadata": {
    "collapsed": true
   },
   "outputs": [],
   "source": [
    "#pa_clean.location"
   ]
  },
  {
   "cell_type": "code",
   "execution_count": null,
   "metadata": {
    "collapsed": true
   },
   "outputs": [],
   "source": [
    "# change yugoslavia to Serbia,Croatia\n",
    "\n",
    "# takes a string as input and returns the cleaned string\n",
    "def rmv_last_space(sides):\n",
    "    sides = re.sub(r'\\([^)]*\\)', '', sides)\n",
    "    sides = re.sub(', ', ',', sides)\n",
    "    sides = re.sub(' ,', ',', sides)\n",
    "    return sides.strip() # removes the space after the string\n",
    "pa_clean.location = pa_clean.location.apply(rmv_last_space)"
   ]
  },
  {
   "cell_type": "code",
   "execution_count": null,
   "metadata": {
    "collapsed": true
   },
   "outputs": [],
   "source": [
    "manual_matchings = {\n",
    "    'Serbia' : 'Republic of Serbia',\n",
    "    'Yugoslavia' : 'Republic of Serbia,Croatia',\n",
    "    'Cote D’Ivoire' : 'Ivory Coast',\n",
    "    'Bosnia-Herzegovina' : 'Bosnia and Herzegovina',\n",
    "    'Tanzania' : 'United Republic of Tanzania',\n",
    "    'Comoros' : 'Madagascar',\n",
    "    'South Yemen' : 'Yemen',\n",
    "    'DR Congo' : 'Democratic Republic of the Congo',\n",
    "    'Hyderabad' : 'India',\n",
    "    'South Vietnam' : 'Vietnam',\n",
    "    'FYR' : 'Macedonia',\n",
    "    'Grenada' : 'Spain',\n",
    "    'Rumania' : 'Romania',\n",
    "    'Serbia' : 'Republic of Serbia',\n",
    "    'Congo' : 'Republic of the Congo',\n",
    "    'Guinea-Bissau' : 'Guinea Bissau',\n",
    "}\n",
    "def replace_names(location):\n",
    "    names = list(set([manual_matchings[x] if x in manual_matchings else x for x in location.split(',')]))\n",
    "    return ','.join(names)\n",
    "pa_clean.location = pa_clean.location.apply(replace_names)"
   ]
  },
  {
   "cell_type": "code",
   "execution_count": null,
   "metadata": {},
   "outputs": [],
   "source": [
    "data = json.load(open('./data/countries.geo.json'))\n",
    "# build location -> locID dictionnary\n",
    "loc_id_dict = dict()\n",
    "for country in data['features']:\n",
    "    loc_id_dict[country['properties']['name']] = country['id']\n",
    "    if country['id'] == '-99':\n",
    "        print(country['properties']['name'])\n",
    "        \n",
    "def getLocationIds(locations):\n",
    "    ids = []\n",
    "    for loc in locations.split(','):\n",
    "        ids.append(loc_id_dict[loc])\n",
    "    return ','.join(ids)\n",
    "        \n",
    "# Add locationID to the dataframe\n",
    "pa_clean['locationID'] = pa_clean.location.apply(getLocationIds)\n",
    "pa_clean.head(30)"
   ]
  },
  {
   "cell_type": "code",
   "execution_count": null,
   "metadata": {
    "collapsed": true
   },
   "outputs": [],
   "source": [
    "# Clean 'Duration' column\n",
    "def clean_date(date):\n",
    "    date = str(date)\n",
    "    # remove time\n",
    "    date = date.split(' ', 1)[0]\n",
    "    # add day if it's missing\n",
    "    if(date[-1]== '-'):\n",
    "        date = date + '01'\n",
    "    # if there is only the year\n",
    "    if('-' not in date and date != 'nan'):\n",
    "        date = date + '-01-01'\n",
    "    # fill nans (a nan means the PA is still on today)\n",
    "    if(date == 'nan'):\n",
    "        date = '2099-01-01'\n",
    "    return date.strip()\n",
    "\n",
    "pa_clean.Duration = pa_clean.Duration.apply(lambda x: clean_date(x))"
   ]
  },
  {
   "cell_type": "code",
   "execution_count": null,
   "metadata": {},
   "outputs": [],
   "source": [
    "print(pa_clean.shape)\n",
    "pa_clean = pa_clean[(pa_clean['Duration']!='nan') | (pa_clean['ended']==0)]\n",
    "pa_clean.shape"
   ]
  },
  {
   "cell_type": "code",
   "execution_count": null,
   "metadata": {},
   "outputs": [],
   "source": [
    "pa_clean.rename({'Duration':'enddate', 'Link to fulltext agreement':'link', 'pa_date ':'pa_date'}, axis=1, inplace=True)\n",
    "pa_clean"
   ]
  },
  {
   "cell_type": "code",
   "execution_count": null,
   "metadata": {
    "collapsed": true
   },
   "outputs": [],
   "source": [
    "pa_clean.to_csv('./frontend/data/peace_agreements.csv', sep='\\t',index=False)"
   ]
  },
  {
   "cell_type": "code",
   "execution_count": null,
   "metadata": {
    "collapsed": true
   },
   "outputs": [],
   "source": []
  }
 ],
 "metadata": {
  "kernelspec": {
   "display_name": "Python 3",
   "language": "python",
   "name": "python3"
  },
  "language_info": {
   "codemirror_mode": {
    "name": "ipython",
    "version": 3
   },
   "file_extension": ".py",
   "mimetype": "text/x-python",
   "name": "python",
   "nbconvert_exporter": "python",
   "pygments_lexer": "ipython3",
   "version": "3.6.0"
  }
 },
 "nbformat": 4,
 "nbformat_minor": 2
}
